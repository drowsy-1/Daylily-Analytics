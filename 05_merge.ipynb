{
 "cells": [
  {
   "cell_type": "code",
   "execution_count": 1,
   "id": "0e02fd08",
   "metadata": {},
   "outputs": [],
   "source": [
    "# Imports\n",
    "import sqlite3\n",
    "import pandas as pd\n",
    "import os"
   ]
  },
  {
   "cell_type": "code",
   "execution_count": 2,
   "id": "09f6f0cf",
   "metadata": {},
   "outputs": [
    {
     "name": "stdout",
     "output_type": "stream",
     "text": [
      "master_daylily table created.\n"
     ]
    }
   ],
   "source": [
    "# Clone the daylilies table → master_daylily\n",
    "\n",
    "# create connection\n",
    "conn = sqlite3.connect(\"daylilies.db\")  \n",
    "cur = conn.cursor()\n",
    "\n",
    "# make the cell re-runnable\n",
    "cur.execute(\"DROP TABLE IF EXISTS master_daylily;\")\n",
    "\n",
    "cur.execute(\"\"\"\n",
    "    CREATE TABLE master_daylily AS\n",
    "    SELECT *\n",
    "    FROM daylilies;\n",
    "\"\"\")\n",
    "\n",
    "conn.commit()\n",
    "print(\"master_daylily table created.\")\n"
   ]
  },
  {
   "cell_type": "code",
   "execution_count": 3,
   "id": "2e03379d",
   "metadata": {},
   "outputs": [
    {
     "name": "stdout",
     "output_type": "stream",
     "text": [
      "Regional data merged into master_daylily.\n"
     ]
    }
   ],
   "source": [
    "# Append regional data (left-join on abbreviation code)\n",
    "cur = conn.cursor()\n",
    "\n",
    "cur.execute(\"DROP TABLE IF EXISTS master_daylily_regional;\")\n",
    "\n",
    "cur.execute(\"\"\"\n",
    "    CREATE TABLE master_daylily_regional AS\n",
    "    SELECT  d.*,\n",
    "            l.Region,\n",
    "            l.Name        AS primary_hybridizer,\n",
    "            l.City,\n",
    "            l.State,\n",
    "            l.Country\n",
    "    FROM master_daylily AS d\n",
    "    LEFT JOIN location_data AS l\n",
    "           ON d.hybridizer = l.\"ABBREVIATION CODE\";\n",
    "\"\"\")\n",
    "\n",
    "# Replace the working master table\n",
    "cur.execute(\"DROP TABLE master_daylily;\")\n",
    "cur.execute(\"ALTER TABLE master_daylily_regional RENAME TO master_daylily;\")\n",
    "\n",
    "conn.commit()\n",
    "print(\"Regional data merged into master_daylily.\")\n"
   ]
  },
  {
   "cell_type": "code",
   "execution_count": 4,
   "id": "fc4104c3",
   "metadata": {},
   "outputs": [
    {
     "name": "stdout",
     "output_type": "stream",
     "text": [
      "Network statistics merged into master_daylily.\n"
     ]
    }
   ],
   "source": [
    "# Append network statistics (left-join on name ⇢ variety)\n",
    "cur = conn.cursor()\n",
    "\n",
    "cur.execute(\"DROP TABLE IF EXISTS master_daylily_final;\")\n",
    "\n",
    "cur.execute(\"\"\"\n",
    "    CREATE TABLE master_daylily_final AS\n",
    "    SELECT  m.*,\n",
    "            n.Direct_Children,\n",
    "            n.Total_Descendants,\n",
    "            n.Avg_Generation_Impact,\n",
    "            n.Descendant_Success_Rate,\n",
    "            n.Breeding_Span,\n",
    "            n.Yearly_Impact,\n",
    "            n.In_Degree_Centrality,\n",
    "            n.Out_Degree_Centrality,\n",
    "            n.PageRank,\n",
    "            n.Katz_Centrality,\n",
    "            n.Betweenness_Centrality\n",
    "    FROM master_daylily AS m\n",
    "    LEFT JOIN network_influence_metrics AS n\n",
    "           ON m.name = n.Variety;\n",
    "\"\"\")\n",
    "\n",
    "# swap in the new master table\n",
    "cur.execute(\"DROP TABLE master_daylily;\")\n",
    "cur.execute(\"ALTER TABLE master_daylily_final RENAME TO master_daylily;\")\n",
    "\n",
    "conn.commit()\n",
    "print(\"Network statistics merged into master_daylily.\")"
   ]
  },
  {
   "cell_type": "code",
   "execution_count": 5,
   "id": "28238fe0",
   "metadata": {},
   "outputs": [
    {
     "name": "stdout",
     "output_type": "stream",
     "text": [
      " Aggregated parent_lists + child_lists tables created.\n"
     ]
    }
   ],
   "source": [
    "# Make parent and child lists\n",
    "cur = conn.cursor()\n",
    "\n",
    "# Parents list for each variety (child → comma-separated parents)\n",
    "cur.execute(\"DROP TABLE IF EXISTS parent_lists;\")\n",
    "cur.execute(\"\"\"\n",
    "    CREATE TABLE parent_lists AS\n",
    "    SELECT  target     AS variety,\n",
    "            group_concat(DISTINCT source) AS parents\n",
    "    FROM     parent_child_relationships\n",
    "    WHERE    source IS NOT NULL\n",
    "      AND    target IS NOT NULL\n",
    "    GROUP BY target;\n",
    "\"\"\")\n",
    "\n",
    "# Children list for each variety (parent → comma-separated children)\n",
    "cur.execute(\"DROP TABLE IF EXISTS child_lists;\")\n",
    "cur.execute(\"\"\"\n",
    "    CREATE TABLE child_lists AS\n",
    "    SELECT  source     AS variety,\n",
    "            group_concat(DISTINCT target) AS children\n",
    "    FROM     parent_child_relationships\n",
    "    WHERE    source IS NOT NULL\n",
    "      AND    target IS NOT NULL\n",
    "    GROUP BY source;\n",
    "\"\"\")\n",
    "\n",
    "conn.commit()\n",
    "print(\" Aggregated parent_lists + child_lists tables created.\")\n"
   ]
  },
  {
   "cell_type": "code",
   "execution_count": 6,
   "id": "52e25403",
   "metadata": {},
   "outputs": [
    {
     "name": "stdout",
     "output_type": "stream",
     "text": [
      " Parent & child lists merged into master_daylily (final).\n"
     ]
    }
   ],
   "source": [
    "# Merge lists into master_daylily\n",
    "cur = conn.cursor()\n",
    "\n",
    "cur.execute(\"DROP TABLE IF EXISTS master_daylily_rel;\")\n",
    "cur.execute(\"\"\"\n",
    "    CREATE TABLE master_daylily_rel AS\n",
    "    SELECT  m.*,\n",
    "            p.parents,\n",
    "            c.children\n",
    "    FROM     master_daylily        AS m\n",
    "    LEFT JOIN parent_lists         AS p  ON m.name = p.variety\n",
    "    LEFT JOIN child_lists          AS c  ON m.name = c.variety;\n",
    "\"\"\")\n",
    "\n",
    "# replace master table\n",
    "cur.execute(\"DROP TABLE master_daylily;\")\n",
    "cur.execute(\"ALTER TABLE master_daylily_rel RENAME TO master_daylily;\")\n",
    "\n",
    "conn.commit()\n",
    "print(\" Parent & child lists merged into master_daylily (final).\")"
   ]
  },
  {
   "cell_type": "code",
   "execution_count": 7,
   "id": "52c5dbdc",
   "metadata": {},
   "outputs": [
    {
     "name": "stdout",
     "output_type": "stream",
     "text": [
      "Database connection closed.\n"
     ]
    }
   ],
   "source": [
    "conn.close()\n",
    "print(\"Database connection closed.\")"
   ]
  },
  {
   "cell_type": "code",
   "execution_count": 8,
   "id": "042697b4",
   "metadata": {},
   "outputs": [
    {
     "name": "stdout",
     "output_type": "stream",
     "text": [
      "Exported 101,446 rows to data/master_daylily.csv\n"
     ]
    }
   ],
   "source": [
    "# Export master_daylily\n",
    "\n",
    "# DB connection\n",
    "conn = sqlite3.connect(\"daylilies.db\")\n",
    "cur = conn.cursor()\n",
    "\n",
    "# Read in the full master table\n",
    "df_master = pd.read_sql_query(\"SELECT * FROM master_daylily;\", conn)\n",
    "\n",
    "# Ensure the data directory exists\n",
    "os.makedirs(\"data\", exist_ok=True)\n",
    "\n",
    "# Save to CSV\n",
    "csv_path = \"data/master_daylily.csv\"\n",
    "df_master.to_csv(csv_path, index=False)\n",
    "\n",
    "print(f\"Exported {len(df_master):,} rows to {csv_path}\")"
   ]
  }
 ],
 "metadata": {
  "kernelspec": {
   "display_name": "myenv",
   "language": "python",
   "name": "python3"
  },
  "language_info": {
   "codemirror_mode": {
    "name": "ipython",
    "version": 3
   },
   "file_extension": ".py",
   "mimetype": "text/x-python",
   "name": "python",
   "nbconvert_exporter": "python",
   "pygments_lexer": "ipython3",
   "version": "3.12.4"
  }
 },
 "nbformat": 4,
 "nbformat_minor": 5
}
